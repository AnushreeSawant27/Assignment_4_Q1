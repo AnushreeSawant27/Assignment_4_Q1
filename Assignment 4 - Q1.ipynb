{
 "cells": [
  {
   "cell_type": "markdown",
   "id": "b2dff787",
   "metadata": {},
   "source": [
    "# Write a Python program to create a lambda function that adds 25 to a given number passed in as an argument."
   ]
  },
  {
   "cell_type": "code",
   "execution_count": 3,
   "id": "cc2e27ce",
   "metadata": {},
   "outputs": [
    {
     "name": "stdout",
     "output_type": "stream",
     "text": [
      "Enter any number: 5\n",
      "Output is: 30\n"
     ]
    }
   ],
   "source": [
    "number = int(input('Enter any number: '))\n",
    "add = lambda x: number+25\n",
    "output = add(number)\n",
    "print('Output is:',output)"
   ]
  }
 ],
 "metadata": {
  "kernelspec": {
   "display_name": "Python 3 (ipykernel)",
   "language": "python",
   "name": "python3"
  },
  "language_info": {
   "codemirror_mode": {
    "name": "ipython",
    "version": 3
   },
   "file_extension": ".py",
   "mimetype": "text/x-python",
   "name": "python",
   "nbconvert_exporter": "python",
   "pygments_lexer": "ipython3",
   "version": "3.9.12"
  }
 },
 "nbformat": 4,
 "nbformat_minor": 5
}
